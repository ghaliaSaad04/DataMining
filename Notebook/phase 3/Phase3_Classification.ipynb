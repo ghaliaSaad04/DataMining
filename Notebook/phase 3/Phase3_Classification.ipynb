
{
 "cells": [
  {
   "cell_type": "markdown",
   "metadata": {},
   "source": [
    "# Phase 3: Classification with Decision Trees (Inspired by Lab Guide)"
   ]
  },
  {
   "cell_type": "code",
   "execution_count": null,
   "metadata": {},
   "outputs": [],
   "source": [
    "import pandas as pd\n",
    "import numpy as np\n",
    "from sklearn.model_selection import train_test_split\n",
    "from sklearn.tree import DecisionTreeClassifier, plot_tree\n",
    "from sklearn.metrics import accuracy_score, confusion_matrix, ConfusionMatrixDisplay\n",
    "import matplotlib.pyplot as plt\n",
    "import joblib"
   ]
  },
  {
   "cell_type": "code",
   "execution_count": null,
   "metadata": {},
   "outputs": [],
   "source": [
    "# Load dataset (Iris Dataset assumed)\n",
    "data = pd.read_csv(\"iris.csv\")  # Replace with actual file if different"
   ]
  },
  {
   "cell_type": "code",
   "execution_count": null,
   "metadata": {},
   "outputs": [],
   "source": [
    "# Feature and label selection\n",
    "X = data.iloc[:, :-1]  # First 4 columns: features\n",
    "y = data.iloc[:, -1]   # Last column: label"
   ]
  },
  {
   "cell_type": "code",
   "execution_count": null,
   "metadata": {},
   "outputs": [],
   "source": [
    "# Define function to evaluate model\n",
    "def evaluate_model(X_train, X_test, y_train, y_test, criterion):\n",
    "    clf = DecisionTreeClassifier(criterion=criterion, random_state=42)\n",
    "    clf.fit(X_train, y_train)\n",
    "    y_pred = clf.predict(X_test)\n",
    "    acc = accuracy_score(y_test, y_pred)\n",
    "    cm = confusion_matrix(y_test, y_pred)\n",
    "    print(f\"Criterion: {criterion}, Accuracy: {acc:.4f}\")\n",
    "    ConfusionMatrixDisplay(cm, display_labels=clf.classes_).plot()\n",
    "    plt.title(f\"Confusion Matrix ({criterion})\")\n",
    "    plt.show()\n",
    "    return clf, acc"
   ]
  },
  {
   "cell_type": "code",
   "execution_count": null,
   "metadata": {},
   "outputs": [],
   "source": [
    "# Try three different train/test splits\n",
    "splits = [(0.9, 0.1), (0.8, 0.2), (0.7, 0.3)]\n",
    "results = []\n",
    "\n",
    "for train_size, test_size in splits:\n",
    "    print(f\"\\n--- Train/Test Split: {int(train_size*100)}/{int(test_size*100)} ---\")\n",
    "    X_train, X_test, y_train, y_test = train_test_split(X, y, train_size=train_size, test_size=test_size, random_state=42)\n",
    "    for criterion in [\"gini\", \"entropy\"]:\n",
    "        clf, acc = evaluate_model(X_train, X_test, y_train, y_test, criterion)\n",
    "        results.append({\"Train Size\": train_size, \"Test Size\": test_size, \"Criterion\": criterion, \"Accuracy\": acc})"
   ]
  },
  {
   "cell_type": "code",
   "execution_count": null,
   "metadata": {},
   "outputs": [],
   "source": [
    "# Display summary table\n",
    "results_df = pd.DataFrame(results)\n",
    "print(\"\\nSummary of Results:\")\n",
    "print(results_df)"
   ]
  },
  {
   "cell_type": "code",
   "execution_count": null,
   "metadata": {},
   "outputs": [],
   "source": [
    "# Train final model (on 70/30 split with 'entropy') for saving/loading\n",
    "X_train, X_test, y_train, y_test = train_test_split(X, y, train_size=0.7, test_size=0.3, random_state=42)\n",
    "final_model = DecisionTreeClassifier(criterion=\"entropy\", random_state=42)\n",
    "final_model.fit(X_train, y_train)"
   ]
  },
  {
   "cell_type": "code",
   "execution_count": null,
   "metadata": {},
   "outputs": [],
   "source": [
    "# Save the model\n",
    "joblib.dump(final_model, \"decision_tree_model.pkl\")"
   ]
  },
  {
   "cell_type": "code",
   "execution_count": null,
   "metadata": {},
   "outputs": [],
   "source": [
    "# Load the model and predict a new sample\n",
    "loaded_model = joblib.load(\"decision_tree_model.pkl\")\n",
    "new_sample = [[5.1, 3.5, 1.4, 0.2]]  # Example sample\n",
    "prediction = loaded_model.predict(new_sample)\n",
    "print(\"\\nPredicted class for new sample:\", prediction[0])"
   ]
  },
  {
   "cell_type": "code",
   "execution_count": null,
   "metadata": {},
   "outputs": [],
   "source": [
    "# Visualize the decision tree\n",
    "plt.figure(figsize=(12, 8))\n",
    "plot_tree(final_model, feature_names=X.columns, class_names=final_model.classes_, filled=True)\n",
    "plt.title(\"Final Decision Tree (Entropy, 70/30)\")\n",
    "plt.show()"
   ]
  }
 ],
 "metadata": {
  "kernelspec": {
   "display_name": "Python 3",
   "language": "python",
   "name": "python3"
  },
  "language_info": {
   "name": "python"
  }
 },
 "nbformat": 4,
 "nbformat_minor": 5
}
