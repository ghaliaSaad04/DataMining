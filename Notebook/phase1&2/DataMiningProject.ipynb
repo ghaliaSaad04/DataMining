{
 "cells": [
  {
   "cell_type": "code",
   "execution_count": 6,
   "metadata": {},
   "outputs": [
    {
     "name": "stdout",
     "output_type": "stream",
     "text": [
      "    Weather   Road_Type Time_of_Day  Traffic_Density  Speed_Limit  \\\n",
      "0     Rainy   City Road     Morning              1.0        100.0   \n",
      "1     Clear  Rural Road       Night              NaN        120.0   \n",
      "2     Rainy     Highway     Evening              1.0         60.0   \n",
      "3     Clear   City Road   Afternoon              2.0         60.0   \n",
      "4     Rainy     Highway     Morning              1.0        195.0   \n",
      "..      ...         ...         ...              ...          ...   \n",
      "835   Clear     Highway       Night              2.0         30.0   \n",
      "836   Rainy  Rural Road     Evening              2.0         60.0   \n",
      "837   Foggy     Highway     Evening              NaN         30.0   \n",
      "838   Foggy     Highway   Afternoon              2.0         60.0   \n",
      "839   Clear     Highway   Afternoon              1.0         60.0   \n",
      "\n",
      "     Number_of_Vehicles  Driver_Alcohol Accident_Severity      Road_Condition  \\\n",
      "0                   5.0             0.0               NaN                 Wet   \n",
      "1                   3.0             0.0          Moderate                 Wet   \n",
      "2                   4.0             0.0               Low                 Icy   \n",
      "3                   3.0             0.0               Low  Under Construction   \n",
      "4                  11.0             0.0               Low                 Dry   \n",
      "..                  ...             ...               ...                 ...   \n",
      "835                 4.0             0.0               Low                 Dry   \n",
      "836                 4.0             0.0               Low                 Dry   \n",
      "837                 4.0             1.0              High                 Dry   \n",
      "838                 3.0             0.0               Low                 Dry   \n",
      "839                 4.0             0.0               Low                 Dry   \n",
      "\n",
      "    Vehicle_Type  Driver_Age  Driver_Experience Road_Light_Condition  Accident  \n",
      "0            Car        51.0               48.0     Artificial Light       0.0  \n",
      "1          Truck        49.0               43.0     Artificial Light       0.0  \n",
      "2            Car        54.0               52.0     Artificial Light       0.0  \n",
      "3            Bus        34.0               31.0             Daylight       0.0  \n",
      "4            Car        62.0               55.0     Artificial Light       1.0  \n",
      "..           ...         ...                ...                  ...       ...  \n",
      "835          Car        23.0               15.0             Daylight       0.0  \n",
      "836   Motorcycle        52.0               46.0             Daylight       1.0  \n",
      "837          Car         NaN               34.0     Artificial Light       NaN  \n",
      "838          Car        25.0               19.0     Artificial Light       0.0  \n",
      "839   Motorcycle        29.0               21.0     Artificial Light       0.0  \n",
      "\n",
      "[840 rows x 14 columns]\n"
     ]
    }
   ],
   "source": [
    "import os; os.getcwd\n",
    "\n",
    "import pandas as pd\n",
    "df=pd.read_csv('Original_DataSet.csv')\n",
    "print(df)\n"
   ]
  }
 ],
 "metadata": {
  "kernelspec": {
   "display_name": "Python 3",
   "language": "python",
   "name": "python3"
  },
  "language_info": {
   "codemirror_mode": {
    "name": "ipython",
    "version": 3
   },
   "file_extension": ".py",
   "mimetype": "text/x-python",
   "name": "python",
   "nbconvert_exporter": "python",
   "pygments_lexer": "ipython3",
   "version": "3.9.6"
  }
 },
 "nbformat": 4,
 "nbformat_minor": 2
}
