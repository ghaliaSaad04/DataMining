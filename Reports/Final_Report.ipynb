{
 "cells": [
  {
   "cell_type": "markdown",
   "metadata": {},
   "source": [
    " **project**  \n",
    "  \n",
    "**Final Report**   \n",
    "***\n",
    "\n",
    "**Students Information:**  \n",
    "***\n",
    "\n",
    "- Rana Alngashy \t 444204737\n",
    "- Ghalia alkhaldi 444200534\n",
    "- Leen bimueqal\t 444200885\n",
    "- Mayaz Aljuraid\t 444203823\n",
    "- Mona almogren\t 444200847\n"
   ]
  },
  {
   "cell_type": "markdown",
   "metadata": {},
   "source": [
    "**problem:**   \n",
    "***\n",
    "Recently, traffic accidents have become more frequent and severe, causing serious harm to people’s lives and leading to injuries, deaths, and major economic losses. This growing issue highlights the importance of understanding the reasons behind the severity of accidents. In our project, we will study and analyze traffic accident data, focusing on environmental and traffic-related factors, to identify patterns that affect the level of accident severity. This will help in predicting whether an accident is likely to be low, moderate, or high in severity, and will support efforts to improve road safety, emergency response, and help reduce the overall impact of traffic accidents.\n",
    "\n"
   ]
  },
  {
   "cell_type": "markdown",
   "metadata": {},
   "source": [
    "**Data Mining Task:**   \n",
    "***\n",
    "In our project, we will use two data mining tasks to help us predict the severity level of traffic accidents, which are classification and clustering. For classification, we will train our model to classify whether an accident is low, moderate, or high in severity using the Accident_Severity class based on a set of environmental and traffic-related factors such as weather conditions, visibility, road surface, and light conditions. For clustering, our model will group together accidents with similar characteristics into clusters. These clusters will help us better understand common patterns among different types of accidents and will be used to support the prediction of severity for new accident cases."
   ]
  },
  {
   "cell_type": "markdown",
   "metadata": {},
   "source": [
    "**Information About Dataset:**  \n",
    "***\n",
    "The source: https://www.kaggle.com/datasets/denkuznetz/traffic-accident-prediction   \n",
    "***\n",
    "Number of objects:840   \n",
    "***\n",
    "Number of attributes: 14  \n",
    "***  \n",
    "class Label: slight , sever , fatal   \n",
    "***\n"
   ]
  },
  {
   "cell_type": "markdown",
   "metadata": {},
   "source": [
    "**Attributes:**   \n",
    "1- Temperature   \n",
    "  \n",
    "\tData Types : Numeric (Interval)  \n",
    "\tPossible Values : -20 to 50 (in °C)\n",
    "\n",
    "2- Visibility    \n",
    "\n",
    "\tData Types : Numeric (Ratio)   \n",
    "\tPossible Values : 0 - 20 (in km)\n",
    "\n",
    "3- Wind_Speed   \n",
    "\n",
    "\tData Types : Numeric (Ratio)   \n",
    "\tPossible Values : 0 - 130 (in km/h)\n",
    "\n",
    "4- Weather_Condition   \n",
    "\n",
    "\tData Types : Nominal   \n",
    "\tPossible Values : Clear, Rain, Fog, Snow, Storm, etc.\n",
    "\n",
    "5- Light_Condition   \n",
    "\n",
    "\tData Types : Nominal   \n",
    "\tPossible Values : Daylight, Dark – street lights on/off, Dawn/Dusk\n",
    "\n",
    "6- Road_Surface   \n",
    "   \n",
    "\tData Types : Ordinal      \n",
    "\tPossible Values :Low, Medium, High   \n",
    "\t\n",
    "7- Traffic_Density  \n",
    "   \n",
    "\tData Types : Nominal      \n",
    "\tPossible Values : Dry, Wet, Snow, Ice, etc.\n",
    "\n",
    "8- Road_Type   \n",
    "\n",
    "\tData Types : Nominal      \n",
    "\tPossible Values : Highway, Urban Road, Rural Road, etc.   \n",
    "\n",
    "9- Time_of_Day   \n",
    "\n",
    "\tData Types : Nominal   \t   \n",
    "\tPossible Values : Morning, Afternoon   \n",
    "\n",
    "10- Accident_Location   \n",
    "\n",
    "\tData Types : Nominal   \n",
    "\tPossible Values : Intersection, Straight Road, Curve, etc.\n",
    "\n",
    "11- Vehicle_Type  \n",
    "\n",
    "\tData Types : Nominal         \n",
    "\tPossible Values : Car, Truck, Bus, Motorcycle, Bicycle, etc\n",
    "\n",
    "12- Number_of_Vehicles   \n",
    "\n",
    "\tData Types : Numeric (Ratio)   \n",
    "\tPossible Values : 1 – 10\n",
    "\n",
    "13- Number_of_Casualties   \n",
    "\n",
    "\tData Types : Numeric (Ratio)   \n",
    "\tPossible Values : 0 – 20\n",
    "\n",
    "14- Accident_Severity (Class)     \n",
    "\n",
    "\tData Types : Ordinal   \n",
    "\tPossible Values : 1 (Low), 2 (Moderate), 3 (High)\n",
    "\n"
   ]
  },
  {
   "cell_type": "code",
   "execution_count": 6,
   "metadata": {},
   "outputs": [
    {
     "name": "stdout",
     "output_type": "stream",
     "text": [
      "    Weather   Road_Type Time_of_Day  Traffic_Density  Speed_Limit  \\\n",
      "0     Rainy   City Road     Morning              1.0        100.0   \n",
      "1     Clear  Rural Road       Night              NaN        120.0   \n",
      "2     Rainy     Highway     Evening              1.0         60.0   \n",
      "3     Clear   City Road   Afternoon              2.0         60.0   \n",
      "4     Rainy     Highway     Morning              1.0        195.0   \n",
      "..      ...         ...         ...              ...          ...   \n",
      "835   Clear     Highway       Night              2.0         30.0   \n",
      "836   Rainy  Rural Road     Evening              2.0         60.0   \n",
      "837   Foggy     Highway     Evening              NaN         30.0   \n",
      "838   Foggy     Highway   Afternoon              2.0         60.0   \n",
      "839   Clear     Highway   Afternoon              1.0         60.0   \n",
      "\n",
      "     Number_of_Vehicles  Driver_Alcohol Accident_Severity      Road_Condition  \\\n",
      "0                   5.0             0.0               NaN                 Wet   \n",
      "1                   3.0             0.0          Moderate                 Wet   \n",
      "2                   4.0             0.0               Low                 Icy   \n",
      "3                   3.0             0.0               Low  Under Construction   \n",
      "4                  11.0             0.0               Low                 Dry   \n",
      "..                  ...             ...               ...                 ...   \n",
      "835                 4.0             0.0               Low                 Dry   \n",
      "836                 4.0             0.0               Low                 Dry   \n",
      "837                 4.0             1.0              High                 Dry   \n",
      "838                 3.0             0.0               Low                 Dry   \n",
      "839                 4.0             0.0               Low                 Dry   \n",
      "\n",
      "    Vehicle_Type  Driver_Age  Driver_Experience Road_Light_Condition  Accident  \n",
      "0            Car        51.0               48.0     Artificial Light       0.0  \n",
      "1          Truck        49.0               43.0     Artificial Light       0.0  \n",
      "2            Car        54.0               52.0     Artificial Light       0.0  \n",
      "3            Bus        34.0               31.0             Daylight       0.0  \n",
      "4            Car        62.0               55.0     Artificial Light       1.0  \n",
      "..           ...         ...                ...                  ...       ...  \n",
      "835          Car        23.0               15.0             Daylight       0.0  \n",
      "836   Motorcycle        52.0               46.0             Daylight       1.0  \n",
      "837          Car         NaN               34.0     Artificial Light       NaN  \n",
      "838          Car        25.0               19.0     Artificial Light       0.0  \n",
      "839   Motorcycle        29.0               21.0     Artificial Light       0.0  \n",
      "\n",
      "[840 rows x 14 columns]\n"
     ]
    }
   ],
   "source": [
    "import os; os.getcwd\n",
    "\n",
    "import pandas as pd\n",
    "df=pd.read_csv('Original_DataSet.csv')\n",
    "print(df)\n"
   ]
  }
 ],
 "metadata": {
  "kernelspec": {
   "display_name": "Python 3",
   "language": "python",
   "name": "python3"
  },
  "language_info": {
   "codemirror_mode": {
    "name": "ipython",
    "version": 3
   },
   "file_extension": ".py",
   "mimetype": "text/x-python",
   "name": "python",
   "nbconvert_exporter": "python",
   "pygments_lexer": "ipython3",
   "version": "3.9.6"
  }
 },
 "nbformat": 4,
 "nbformat_minor": 2
}
